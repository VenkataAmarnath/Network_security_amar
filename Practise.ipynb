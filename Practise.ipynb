{
 "cells": [
  {
   "cell_type": "code",
   "execution_count": 1,
   "metadata": {},
   "outputs": [
    {
     "name": "stdout",
     "output_type": "stream",
     "text": [
      "abc\\09_25_2024_10_07_36\n"
     ]
    }
   ],
   "source": [
    "import os\n",
    "from datetime import datetime\n",
    "timestamp=datetime.now()\n",
    "\n",
    "timestamp=timestamp.strftime(\"%m_%d_%Y_%H_%M_%S\")\n",
    "pipeline_name='fjgjh'\n",
    "artifact_name='abc'\n",
    "artifact_dir=os.path.join(artifact_name,timestamp)\n",
    "print(artifact_dir)"
   ]
  },
  {
   "cell_type": "code",
   "execution_count": 9,
   "metadata": {},
   "outputs": [
    {
     "name": "stdout",
     "output_type": "stream",
     "text": [
      "abc\\09_25_2024_10_07_36\n",
      "abc\\09_25_2024_10_07_36\n"
     ]
    }
   ],
   "source": [
    "print(os.path.join(artifact_name,timestamp))\n",
    "os.path.join(artifact_name,timestamp)\n",
    "a=os.path.join(artifact_name,timestamp)\n",
    "print(a)"
   ]
  },
  {
   "cell_type": "code",
   "execution_count": 10,
   "metadata": {},
   "outputs": [
    {
     "data": {
      "text/plain": [
       "'abc\\\\09_25_2024_10_07_36'"
      ]
     },
     "execution_count": 10,
     "metadata": {},
     "output_type": "execute_result"
    }
   ],
   "source": [
    "os.path.join(artifact_name,timestamp)"
   ]
  },
  {
   "cell_type": "code",
   "execution_count": 14,
   "metadata": {},
   "outputs": [
    {
     "name": "stdout",
     "output_type": "stream",
     "text": [
      "09_25_2024_10_13_02\n",
      "<class 'str'>\n",
      "<class 'str'>\n"
     ]
    }
   ],
   "source": [
    "timestamp=datetime.now()\n",
    "timestamp=timestamp.strftime(\"%m_%d_%Y_%H_%M_%S\")\n",
    "print(timestamp)\n",
    "print(type(timestamp))\n",
    "timestamp1: str =timestamp\n",
    "print(type(timestamp1))"
   ]
  },
  {
   "cell_type": "code",
   "execution_count": 1,
   "metadata": {},
   "outputs": [
    {
     "ename": "NameError",
     "evalue": "name 'feature_store_file_path' is not defined",
     "output_type": "error",
     "traceback": [
      "\u001b[1;31m---------------------------------------------------------------------------\u001b[0m",
      "\u001b[1;31mNameError\u001b[0m                                 Traceback (most recent call last)",
      "Cell \u001b[1;32mIn[1], line 2\u001b[0m\n\u001b[0;32m      1\u001b[0m \u001b[38;5;28;01mimport\u001b[39;00m \u001b[38;5;21;01mos\u001b[39;00m\n\u001b[1;32m----> 2\u001b[0m dir_path \u001b[38;5;241m=\u001b[39m os\u001b[38;5;241m.\u001b[39mpath\u001b[38;5;241m.\u001b[39mdirname(\u001b[43mfeature_store_file_path\u001b[49m)\n\u001b[0;32m      3\u001b[0m os\u001b[38;5;241m.\u001b[39mmakedirs(dir_path,exist_ok\u001b[38;5;241m=\u001b[39m\u001b[38;5;28;01mTrue\u001b[39;00m)\n",
      "\u001b[1;31mNameError\u001b[0m: name 'feature_store_file_path' is not defined"
     ]
    }
   ],
   "source": [
    "import os\n",
    "\n",
    "feature_store_file_path: str = os.path.join(self.data_ingestion_dir, training_pipeline.DATA_INGESTION_FEATURE_STORE_DIR, training_pipeline.FILE_NAME\n",
    "\n",
    "\n",
    "dir_path = os.path.dirname(feature_store_file_path)\n",
    "os.makedirs(dir_path,exist_ok=True)"
   ]
  },
  {
   "cell_type": "code",
   "execution_count": null,
   "metadata": {},
   "outputs": [],
   "source": [
    "data_ingestion_artifact = DataIngestionArtifact(trained_file_path=self.data_ingestion_config.training_file_path,\n",
    "            test_file_path=self.data_ingestion_config.testing_file_path)\n",
    "            return data_ingestion_artifact"
   ]
  },
  {
   "cell_type": "code",
   "execution_count": null,
   "metadata": {},
   "outputs": [],
   "source": [
    "from dataclasses import dataclass\n",
    "\n",
    "\n",
    "\n",
    "@dataclass\n",
    "\n",
    "class DataIngestionArtifact:\n",
    "    trained_file_path:str\n",
    "    test_file_path:str\n",
    "\n",
    "data_ingestion_artifact = DataIngestionArtifact(trained_file_path=self.data_ingestion_config.training_file_path,\n",
    "                                                test_file_path=self.data_ingestion_config.testing_file_path)\n",
    "print(data_ingestion_artifact)\n"
   ]
  },
  {
   "cell_type": "code",
   "execution_count": 2,
   "metadata": {},
   "outputs": [
    {
     "name": "stdout",
     "output_type": "stream",
     "text": [
      "ABC(a='amar', b='nath')\n"
     ]
    }
   ],
   "source": [
    "from dataclasses import dataclass\n",
    "\n",
    "@dataclass\n",
    "class ABC:\n",
    "    a:str\n",
    "    b:str\n",
    "\n",
    "\n",
    "\n",
    "data_ingestion_artifact = ABC(a=\"amar\",b=\"nath\")\n",
    "print(data_ingestion_artifact)"
   ]
  },
  {
   "cell_type": "code",
   "execution_count": 4,
   "metadata": {},
   "outputs": [
    {
     "ename": "TypeError",
     "evalue": "ABCD() takes no arguments",
     "output_type": "error",
     "traceback": [
      "\u001b[1;31m---------------------------------------------------------------------------\u001b[0m",
      "\u001b[1;31mTypeError\u001b[0m                                 Traceback (most recent call last)",
      "Cell \u001b[1;32mIn[4], line 5\u001b[0m\n\u001b[0;32m      2\u001b[0m     a:\u001b[38;5;28mstr\u001b[39m\n\u001b[0;32m      3\u001b[0m     b:\u001b[38;5;28mstr\u001b[39m\n\u001b[1;32m----> 5\u001b[0m data_ingestion_artifact1 \u001b[38;5;241m=\u001b[39m \u001b[43mABCD\u001b[49m\u001b[43m(\u001b[49m\u001b[43ma\u001b[49m\u001b[38;5;241;43m=\u001b[39;49m\u001b[38;5;124;43m\"\u001b[39;49m\u001b[38;5;124;43mamar\u001b[39;49m\u001b[38;5;124;43m\"\u001b[39;49m\u001b[43m,\u001b[49m\u001b[43mb\u001b[49m\u001b[38;5;241;43m=\u001b[39;49m\u001b[38;5;124;43m\"\u001b[39;49m\u001b[38;5;124;43mnath\u001b[39;49m\u001b[38;5;124;43m\"\u001b[39;49m\u001b[43m)\u001b[49m\n\u001b[0;32m      6\u001b[0m \u001b[38;5;28mprint\u001b[39m(data_ingestion_artifact1)\n",
      "\u001b[1;31mTypeError\u001b[0m: ABCD() takes no arguments"
     ]
    }
   ],
   "source": [
    "\n",
    "class ABCD:\n",
    "    a:str\n",
    "    b:str\n",
    "\n",
    "data_ingestion_artifact1 = ABCD(a=\"amar\",b=\"nath\")\n",
    "print(data_ingestion_artifact1)"
   ]
  },
  {
   "cell_type": "code",
   "execution_count": null,
   "metadata": {},
   "outputs": [],
   "source": []
  }
 ],
 "metadata": {
  "kernelspec": {
   "display_name": "Python 3",
   "language": "python",
   "name": "python3"
  },
  "language_info": {
   "codemirror_mode": {
    "name": "ipython",
    "version": 3
   },
   "file_extension": ".py",
   "mimetype": "text/x-python",
   "name": "python",
   "nbconvert_exporter": "python",
   "pygments_lexer": "ipython3",
   "version": "3.8.20"
  }
 },
 "nbformat": 4,
 "nbformat_minor": 2
}
