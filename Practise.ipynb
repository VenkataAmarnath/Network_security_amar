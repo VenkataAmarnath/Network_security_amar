{
 "cells": [
  {
   "cell_type": "code",
   "execution_count": 1,
   "metadata": {},
   "outputs": [
    {
     "name": "stdout",
     "output_type": "stream",
     "text": [
      "abc\\09_25_2024_10_07_36\n"
     ]
    }
   ],
   "source": [
    "import os\n",
    "from datetime import datetime\n",
    "timestamp=datetime.now()\n",
    "\n",
    "timestamp=timestamp.strftime(\"%m_%d_%Y_%H_%M_%S\")\n",
    "pipeline_name='fjgjh'\n",
    "artifact_name='abc'\n",
    "artifact_dir=os.path.join(artifact_name,timestamp)\n",
    "print(artifact_dir)"
   ]
  },
  {
   "cell_type": "code",
   "execution_count": 9,
   "metadata": {},
   "outputs": [
    {
     "name": "stdout",
     "output_type": "stream",
     "text": [
      "abc\\09_25_2024_10_07_36\n",
      "abc\\09_25_2024_10_07_36\n"
     ]
    }
   ],
   "source": [
    "print(os.path.join(artifact_name,timestamp))\n",
    "os.path.join(artifact_name,timestamp)\n",
    "a=os.path.join(artifact_name,timestamp)\n",
    "print(a)"
   ]
  },
  {
   "cell_type": "code",
   "execution_count": 10,
   "metadata": {},
   "outputs": [
    {
     "data": {
      "text/plain": [
       "'abc\\\\09_25_2024_10_07_36'"
      ]
     },
     "execution_count": 10,
     "metadata": {},
     "output_type": "execute_result"
    }
   ],
   "source": [
    "os.path.join(artifact_name,timestamp)"
   ]
  },
  {
   "cell_type": "code",
   "execution_count": 14,
   "metadata": {},
   "outputs": [
    {
     "name": "stdout",
     "output_type": "stream",
     "text": [
      "09_25_2024_10_13_02\n",
      "<class 'str'>\n",
      "<class 'str'>\n"
     ]
    }
   ],
   "source": [
    "timestamp=datetime.now()\n",
    "timestamp=timestamp.strftime(\"%m_%d_%Y_%H_%M_%S\")\n",
    "print(timestamp)\n",
    "print(type(timestamp))\n",
    "timestamp1: str =timestamp\n",
    "print(type(timestamp1))"
   ]
  },
  {
   "cell_type": "code",
   "execution_count": null,
   "metadata": {},
   "outputs": [],
   "source": []
  }
 ],
 "metadata": {
  "kernelspec": {
   "display_name": "Python 3",
   "language": "python",
   "name": "python3"
  },
  "language_info": {
   "codemirror_mode": {
    "name": "ipython",
    "version": 3
   },
   "file_extension": ".py",
   "mimetype": "text/x-python",
   "name": "python",
   "nbconvert_exporter": "python",
   "pygments_lexer": "ipython3",
   "version": "3.8.20"
  }
 },
 "nbformat": 4,
 "nbformat_minor": 2
}
